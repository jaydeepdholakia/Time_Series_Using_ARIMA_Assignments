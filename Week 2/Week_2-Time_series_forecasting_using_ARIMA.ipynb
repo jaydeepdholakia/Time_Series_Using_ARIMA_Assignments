{
 "cells": [
  {
   "cell_type": "markdown",
   "metadata": {},
   "source": [
    "Welcome to week 2 of our time-series forecasting using ARIMA project. In week 1, we learnt the basics of time-series. This week, we will learn various tools on how to handle time-series. I will doing the analysis on the air passenger time series and you need to perform the same analysis on the mean temperature data. \n",
    "\n",
    "Before we get started, I am going to brief about Box Jenkin method. The Autoregressive Integrated Moving Average Model, or **ARIMA** for short is a standard statistical model for time series forecast and analysis. In time series analysis, the Box–Jenkins method, named after the statisticians George Box and Gwilym Jenkins, applies autoregressive moving average or autoregressive integrated moving average models to find the best fit of a time-series model to past values of a time series.\n",
    "\n",
    "Along with ARIMA's development, the authors Box and Jenkins also suggest a process for identifying, estimating, and checking models for a specific time series dataset.\n",
    "\n",
    "Let's get started! \n",
    "\n",
    "## Sliding window\n",
    "\n",
    "In the last week's module, I had talked how we can covert time-series problem into a supervised machine learning problem. I am going to show it again:"
   ]
  },
  {
   "cell_type": "code",
   "execution_count": 1,
   "metadata": {},
   "outputs": [],
   "source": [
    "import pandas as pd\n",
    "import numpy as np\n",
    "import matplotlib.pyplot as plt\n",
    "from datetime import datetime\n",
    "from pandas import DataFrame\n",
    "from pandas import concat\n",
    "from pandas.plotting import register_matplotlib_converters\n",
    "register_matplotlib_converters()\n",
    "plt.rcParams[\"figure.figsize\"] = [16,9]"
   ]
  },
  {
   "cell_type": "code",
   "execution_count": 2,
   "metadata": {},
   "outputs": [
    {
     "name": "stdout",
     "output_type": "stream",
     "text": [
      "       t  t+1\n",
      "0    NaN  112\n",
      "1  112.0  118\n",
      "2  118.0  132\n",
      "3  132.0  129\n",
      "4  129.0  121\n"
     ]
    }
   ],
   "source": [
    "series = pd.read_csv(r\"C:\\Users\\srtpa\\Downloads\\datasets_1057_1913_AirPassengers.csv\", header=0, index_col=0,\n",
    "parse_dates=True, squeeze=True)\n",
    "temps = DataFrame(series.values)\n",
    "dataframe = concat([temps.shift(1), temps], axis=1)\n",
    "dataframe.columns = ['t','t+1']\n",
    "print(dataframe.head(5))"
   ]
  },
  {
   "cell_type": "markdown",
   "metadata": {},
   "source": [
    "The use of prior time steps to predict the next time step is called the **sliding window method**. For short, it may be called the window method in some literature. \n",
    "\n",
    "In statistics and time series analysis, this is called a **lag** or lag method. \n",
    "\n",
    "The number of previous time steps is called the **window width** or size of the lag. This sliding window is the basis for how we can turn any time series dataset into a supervised learning problem.\n",
    "\n",
    "In the above problem, we cannot use the first row because it has NaN. \n",
    "\n",
    "#### Sliding Window With Multiple Steps\n",
    "\n",
    "The number of time steps ahead to be forecasted is important. In the example above, we had used one step. There can be multiple steps as well:\n",
    "\n",
    "**1. One-step Forecast**: This is where the next time step (t+1) is predicted.\n",
    "\n",
    "**2. Multi-step Forecast**: This is where two or more future time steps are to be predicted.\n",
    "\n",
    "**Q1: Transform the mean temperature data with a 3 step sliding window.**\n",
    "\n",
    "### Rolling Window Statistics\n",
    "\n",
    "After we have understood lag and sliding window, it is time to focus on rolling window statistics which will be useful for the analysis. One thing that we can do with our data is that we can add a summary of values at previous steps. The summaries could be mean, standard deviation, variation, edian, etc. The most useful will be the **rolling mean.**\n",
    "\n",
    "We can calculate the mean of the current and previous values and use that to predict the next value."
   ]
  },
  {
   "cell_type": "code",
   "execution_count": 3,
   "metadata": {},
   "outputs": [
    {
     "name": "stdout",
     "output_type": "stream",
     "text": [
      "   mean(t-1,t)  t+1\n",
      "0          NaN  112\n",
      "1          NaN  118\n",
      "2        115.0  132\n",
      "3        125.0  129\n",
      "4        130.5  121\n"
     ]
    }
   ],
   "source": [
    "series = pd.read_csv(r\"C:\\Users\\srtpa\\Downloads\\datasets_1057_1913_AirPassengers.csv\", header=0, index_col=0,\n",
    "parse_dates=True, squeeze=True)\n",
    "temps = DataFrame(series.values)\n",
    "shifted = temps.shift(1)\n",
    "window = shifted.rolling(window=2)\n",
    "means = window.mean()\n",
    "dataframe = concat([means, temps], axis=1)\n",
    "dataframe.columns = ['mean(t-1,t)', 't+1']\n",
    "print(dataframe.head(5))"
   ]
  },
  {
   "cell_type": "markdown",
   "metadata": {},
   "source": [
    "## Autocorrelation plots\n",
    "\n",
    "We can quantify the strength and type of relationship between observations and their lags. In statistics, this is called correlation, and when calculated against lag values in time series, it is called autocorrelation (self-correlation). A correlation value calculated between two groups of numbers, such as observations and their lag=1 values, results in a number between -1 and 1.\n",
    "\n",
    "The sign of this number indicates a negative or positive correlation respectively. A value close to zero suggests a weak correlation, whereas a value closer to -1 or 1 indicates a strong correlation. This is similar to the pearson correlation we try to find in our supervised learning problem. \n",
    "\n",
    "Additionally, Autocorrelation plots are also a commonly-used tool for checking randomness in a data set. This randomness is ascertained by computing autocorrelations for data values at varying time lags. If random, such autocorrelations should be near zero for any and all time-lag separations. If non-random, then one or more of the autocorrelations will be significantly non-zero.\n",
    "\n",
    "There are several autocorrelation coefficients, corresponding to each panel in the lag plot. For example,  \n",
    "r1 measures the relationship between  y(t) and y(t−1),r2 measures the relationship between y(t) and y(t-2), and so on.\n",
    "\n",
    "**How can the plot be used?**\n",
    "\n",
    "A plot can be created to help better understand how this relationship changes over the lag. This type of plot is called an **autocorrelation plot**. A plot of the autocorrelation of a time series by lag is called the **AutoCorrelation Function**, or the acronym ACF. This plot is sometimes called a correlogram or an autocorrelation plot.\n",
    "\n",
    "When data have a trend, the autocorrelations for small lags tend to be large and positive because observations nearby in time are also nearby in size. So the ACF of trended time series tend to have positive values that slowly decrease as the lags increase.\n",
    "\n",
    "When data are seasonal, the autocorrelations will be larger for the seasonal lags (at multiples of the seasonal frequency) than for other lags. It will resemble a sin curve. \n",
    "\n",
    "A data with both trend and seasonality will show both of these effects. The ACF will decrease over the period of time and the curve will pulse while decreasing. "
   ]
  },
  {
   "cell_type": "code",
   "execution_count": 4,
   "metadata": {},
   "outputs": [
    {
     "data": {
      "image/png": "[encoded data removed]",
      "text/plain": [
       "<Figure size 432x288 with 1 Axes>"
      ]
     },
     "metadata": {
      "needs_background": "light"
     },
     "output_type": "display_data"
    }
   ],
   "source": [
    "from pandas.plotting import autocorrelation_plot\n",
    "autocorrelation_plot(series)\n",
    "plt.show()"
   ]
  },
  {
   "cell_type": "markdown",
   "metadata": {},
   "source": [
    "The plot above shows strong correlation, a positive relationship between the variable and the initial few values of lags. If this plot was a sin curve, it will indicate strong seasonality in the data. The graph above clearly shows trend in the data. \n",
    "\n",
    "## Partial Autocorrelation plots\n",
    "\n",
    "In time series analysis, the partial autocorrelation function (PACF) gives the partial correlation of a stationary time series with its own lagged values, regressed the values of the time series at all shorter lags. It contrasts with the autocorrelation function, which does not control for other lags. \n",
    "\n",
    "The PACF plot is a plot of the partial correlation coefficients between the series and lags of itself.In general, the \"partial\" correlation between two variables is the amount of correlation between them which is not explained by their mutual correlations with a specified set of other variables. \n",
    "\n",
    "For example, if we are regressing a variable Y on other variables X1, X2, and X3, the partial correlation between Y and X3 is the amount of correlation between Y and X3 that is not explained by their common correlations with X1 and X2. This partial correlation can be computed as the square root of the reduction in variance that is achieved by adding X3 to the regression of Y on X1 and X2.\n",
    "\n",
    "**NOTE: If this sounds overwhelming, please watch the video I am linking down below to understand better:**\n",
    "\n",
    "Link to the video: https://www.youtube.com/watch?v=5Q5p6eVM7zM\n",
    "\n",
    "We will be using the concepts of ACF and PACF later in our project. Now we will about random walk and stationarity of a time-series because we need to make our time-series stationary before we can apply ARIMA to the model. \n",
    "\n",
    "## Random walk\n",
    "\n",
    "You pick any time-series from the internet and now you want to forecast it. But, how do you know if that time-series is forecastable or not? There is a tool called a **random walk** that can help you understand the predictability of your time series forecast problem.\n",
    "\n",
    "In a random walk, the next value in the sequence is a modification of the previous value in the sequence. The process used to generate the series forces dependence from one-time step to the next. This dependence provides some consistency from step-to-step rather than the large jumps that a series of independent, random numbers provides. \n",
    "\n",
    "It is this dependency that gives the process its name as a **random walk** or a drunkard's walk. "
   ]
  },
  {
   "cell_type": "markdown",
   "metadata": {},
   "source": [
    "## Stationarity of time-series\n",
    "\n",
    "A stationary time series is one where the values are not a function of time. Given the way that the random walk is constructed and the results of reviewing the autocorrelation, we know that the observations in a random walk are dependent on time. Therefore we can expect a random walk to be non-stationary. In fact, all random walk processes are non-stationary. Note that not all non-stationary time series are random walks.\n",
    "\n",
    "Stationarity is an important concept in time series analysis. Most forecasting methods assume that a distribution has stationarity. For example, autocovariance and autocorrelations rely on the assumption of stationarity. An absence of stationarity can cause unexpected or bizarre behaviors. \n",
    "\n",
    "1. Stationarity means that the statistical properties of a time series (or rather the process generating it) do not change over time.\n",
    "\n",
    "2. Stationarity is important because many useful analytical tools and statistical tests and models rely on it.\n",
    "\n",
    "Models can show different types of stationarity:\n",
    "\n",
    "**1. Strict stationarity** means that the joint distribution of any moments of any degree (e.g. expected values, variances, third order and higher moments) within the process is never dependent on time. This definition is in practice too strict to be used for any real-life model.\n",
    "\n",
    "**2. First-order stationarity** series have means that never changes with time. Any other statistics (like variance) can change.\n",
    "\n",
    "**3. Second-order stationarity (also called weak stationarity) time series** have a constant mean, variance and an autocovariance that doesn’t change with time. Other statistics in the system are free to change over time. This constrained version of strict stationarity is very common.\n",
    "\n",
    "**4. Trend-stationary models** fluctuate around a deterministic trend (the series mean). These deterministic trends can be linear or quadratic, but the amplitude (height of one oscillation) of the fluctuations neither increases nor decreases across the series.\n",
    "\n",
    "**5. Difference-stationary models** are models that need one or more differencings to become stationary. \n",
    "\n",
    "It can be difficult to tell if a model is stationary or not. Sometimes, it can be useful to look at the graphs and tell whether the series is stationary or not using rolling mean and standard deviation, there are other methods that can be used to determine whether a time-series is stationary or not:\n",
    "\n",
    "1. Unit root tests (e.g. Augmented Dickey-Fuller (ADF) test or Zivot-Andrews test)\n",
    "\n",
    "2. A KPSS test (run as a complement to the unit root tests).\n",
    "\n",
    "3. The Priestley-Subba Rao (PSR) Test or Wavelet-Based Test, which are less common tests based on spectrum analysis.\n",
    "\n",
    "We will be using Augmented Dickey-Fuller test for analyzing if the time-series is stationary or not. \n",
    "\n",
    "To test if our dataset is stationary or not, we will first make a hypothesis:\n",
    "\n",
    "**H0 or null hypothesis**: The time series is stationary \n",
    "\n",
    "**H1 or alternative hypothesis**: The time series is not stationary\n",
    "\n",
    "Let us test H0 and assume that the time series is stationary and now let's visualize the data and perform the Augmented Dickey Fuller test. "
   ]
  },
  {
   "cell_type": "code",
   "execution_count": 5,
   "metadata": {},
   "outputs": [
    {
     "data": {
      "text/plain": [
       "[<matplotlib.lines.Line2D at 0x16237666c48>]"
      ]
     },
     "execution_count": 5,
     "metadata": {},
     "output_type": "execute_result"
    },
    {
     "data": {
      "image/png": "[encoded data removed]",
      "text/plain": [
       "<Figure size 432x288 with 1 Axes>"
      ]
     },
     "metadata": {
      "needs_background": "light"
     },
     "output_type": "display_data"
    }
   ],
   "source": [
    "movingaverage=series.rolling(window=12).mean()\n",
    "movingstd=series.rolling(window=12).std()\n",
    "plt.plot(series)\n",
    "plt.plot(movingaverage, color='red')\n",
    "plt.plot(movingstd, color='black')"
   ]
  },
  {
   "cell_type": "markdown",
   "metadata": {},
   "source": [
    "We can see that although the standard deviation line is stationary, the moving average line is not stationary. But before rejecting the null hypothesis we will perform Dickey Fuller test as well. \n",
    "\n",
    "## Augmented Dickey Fuller test \n",
    "\n",
    "An augmented Dickey–Fuller test (ADF) tests the null hypothesis that a unit root is present in a time series sample. \n",
    "\n",
    "We are not interested in the deep technical connotations. We are more concerned about the intuitive understanding behind the ADF test. \n",
    "\n",
    "The intuition behind the test is that if the series is characterised by a unit root process then the lagged level of the series  y(t-1) will provide no relevant information in predicting the change in y(t). In contrast, when the process has no unit root, it is stationary and hence exhibits reversion to the mean - so the lagged level will provide relevant information in predicting the change of the series and the null of a unit root will be rejected. "
   ]
  },
  {
   "cell_type": "code",
   "execution_count": 6,
   "metadata": {},
   "outputs": [],
   "source": [
    "from statsmodels.tsa.stattools import adfuller\n",
    "def stationarity_check(ts):\n",
    "    \n",
    "    # Determing rolling statistics\n",
    "    roll_mean = ts.rolling(window=12).mean()\n",
    "    movingstd=series.rolling(window=12).std()\n",
    "    # Plot rolling statistics:\n",
    "    plt.plot(ts, color='green',label='Original')\n",
    "    plt.plot(roll_mean, color='blue', label='Rolling Mean')\n",
    "    plt.plot(movingstd, color='black', label='Rolling Std')\n",
    "    plt.legend(loc='best')\n",
    "    plt.title('Rolling Mean and Std')\n",
    "    plt.show(block=False)\n",
    "    \n",
    "    # Perform Augmented Dickey-Fuller test:\n",
    "    print('Augmented Dickey-Fuller test:')\n",
    "    df_test = adfuller(ts)\n",
    "    print(\"type of df_test: \",type(df_test))\n",
    "    print(\"df_test: \",df_test)\n",
    "    df_output = pd.Series(df_test[0:4], index=['Test Statistic','p-value','#Lags Used','Number of Observations Used'])\n",
    "    print(\"df_output: \\n\",df_output)\n",
    "    for key,value in df_test[4].items():\n",
    "        df_output['Critical Value (%s)'%key] = value\n",
    "    print(df_output)"
   ]
  },
  {
   "cell_type": "code",
   "execution_count": 7,
   "metadata": {},
   "outputs": [
    {
     "data": {
      "image/png": "[encoded data removed]",
      "text/plain": [
       "<Figure size 432x288 with 1 Axes>"
      ]
     },
     "metadata": {
      "needs_background": "light"
     },
     "output_type": "display_data"
    },
    {
     "name": "stdout",
     "output_type": "stream",
     "text": [
      "Augmented Dickey-Fuller test:\n",
      "type of df_test:  <class 'tuple'>\n",
      "df_test:  (0.8153688792060512, 0.991880243437641, 13, 130, {'1%': -3.4816817173418295, '5%': -2.8840418343195267, '10%': -2.578770059171598}, 996.692930839019)\n",
      "df_output: \n",
      " Test Statistic                   0.815369\n",
      "p-value                          0.991880\n",
      "#Lags Used                      13.000000\n",
      "Number of Observations Used    130.000000\n",
      "dtype: float64\n",
      "Test Statistic                   0.815369\n",
      "p-value                          0.991880\n",
      "#Lags Used                      13.000000\n",
      "Number of Observations Used    130.000000\n",
      "Critical Value (1%)             -3.481682\n",
      "Critical Value (5%)             -2.884042\n",
      "Critical Value (10%)            -2.578770\n",
      "dtype: float64\n"
     ]
    }
   ],
   "source": [
    "stationarity_check(series)"
   ]
  },
  {
   "cell_type": "markdown",
   "metadata": {},
   "source": [
    "For the mean temperature data set, you need to resample the data. "
   ]
  },
  {
   "cell_type": "code",
   "execution_count": 8,
   "metadata": {},
   "outputs": [
    {
     "data": {
      "text/html": [
       "<div>\n",
       "<style scoped>\n",
       "    .dataframe tbody tr th:only-of-type {\n",
       "        vertical-align: middle;\n",
       "    }\n",
       "\n",
       "    .dataframe tbody tr th {\n",
       "        vertical-align: top;\n",
       "    }\n",
       "\n",
       "    .dataframe thead th {\n",
       "        text-align: right;\n",
       "    }\n",
       "</style>\n",
       "<table border=\"1\" class=\"dataframe\">\n",
       "  <thead>\n",
       "    <tr style=\"text-align: right;\">\n",
       "      <th></th>\n",
       "      <th>Temperature</th>\n",
       "      <th>Year</th>\n",
       "      <th>Month</th>\n",
       "    </tr>\n",
       "    <tr>\n",
       "      <th>datetime</th>\n",
       "      <th></th>\n",
       "      <th></th>\n",
       "      <th></th>\n",
       "    </tr>\n",
       "  </thead>\n",
       "  <tbody>\n",
       "    <tr>\n",
       "      <td>2001-01-31</td>\n",
       "      <td>12.568436</td>\n",
       "      <td>2001</td>\n",
       "      <td>1</td>\n",
       "    </tr>\n",
       "    <tr>\n",
       "      <td>2001-02-28</td>\n",
       "      <td>18.241270</td>\n",
       "      <td>2001</td>\n",
       "      <td>2</td>\n",
       "    </tr>\n",
       "    <tr>\n",
       "      <td>2001-03-31</td>\n",
       "      <td>23.494737</td>\n",
       "      <td>2001</td>\n",
       "      <td>3</td>\n",
       "    </tr>\n",
       "    <tr>\n",
       "      <td>2001-04-30</td>\n",
       "      <td>29.781388</td>\n",
       "      <td>2001</td>\n",
       "      <td>4</td>\n",
       "    </tr>\n",
       "    <tr>\n",
       "      <td>2001-05-31</td>\n",
       "      <td>33.019526</td>\n",
       "      <td>2001</td>\n",
       "      <td>5</td>\n",
       "    </tr>\n",
       "  </tbody>\n",
       "</table>\n",
       "</div>"
      ],
      "text/plain": [
       "            Temperature  Year  Month\n",
       "datetime                            \n",
       "2001-01-31    12.568436  2001      1\n",
       "2001-02-28    18.241270  2001      2\n",
       "2001-03-31    23.494737  2001      3\n",
       "2001-04-30    29.781388  2001      4\n",
       "2001-05-31    33.019526  2001      5"
      ]
     },
     "execution_count": 8,
     "metadata": {},
     "output_type": "execute_result"
    }
   ],
   "source": [
    "data=pd.read_csv(r\"C:\\Users\\srtpa\\Downloads\\testset.csv\")\n",
    "data['datetime'] = pd.to_datetime(data['datetime'].apply(lambda x: datetime.strptime(x,\"%Y%m%d-%H:%M\").strftime(\"%Y-%m-%d %H:%M\")))\n",
    "data = data.set_index('datetime',drop=True)\n",
    "data.index.name = 'datetime'\n",
    "data = data['2001':]\n",
    "\n",
    "\n",
    "\n",
    "\n",
    "newdata = data.resample('M').mean().interpolate()\n",
    "data1=newdata.groupby(newdata.index.year).mean()\n",
    "newdata['Year'] = newdata.index.year\n",
    "newdata['Month'] = newdata.index.month\n",
    "newdata.head()"
   ]
  },
  {
   "cell_type": "markdown",
   "metadata": {},
   "source": [
    "The data above has been resampled according to months, you can resample it by hours or years as per your requirement. "
   ]
  },
  {
   "cell_type": "markdown",
   "metadata": {},
   "source": [
    "## Assignment for week 2: \n",
    "    \n",
    "1. Write about the p-value, test statistic, critical values in detail and how are they important to determine stationarity of a dataset. \n",
    "2. Understand the ADF test mathematically. \n",
    "3. Write about steps that can be taken to make a time-series stationary. \n",
    "4. Perform the analysis done in this week on the mean temperature dataset. Also, write in detail about the insights you found while doing the analysis. \n",
    "\n",
    "See you all in the next week! "
   ]
  }
 ],
 "metadata": {
  "kernelspec": {
   "display_name": "Python 3",
   "language": "python",
   "name": "python3"
  },
  "language_info": {
   "codemirror_mode": {
    "name": "ipython",
    "version": 3
   },
   "file_extension": ".py",
   "mimetype": "text/x-python",
   "name": "python",
   "nbconvert_exporter": "python",
   "pygments_lexer": "ipython3",
   "version": "3.7.6"
  }
 },
 "nbformat": 4,
 "nbformat_minor": 2
}
